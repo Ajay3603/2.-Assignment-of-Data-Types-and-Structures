{
 "cells": [
  {
   "cell_type": "code",
   "execution_count": 1,
   "id": "c307106d-9ecc-4f57-baf6-36a39a430ab1",
   "metadata": {},
   "outputs": [],
   "source": [
    "#Data Types and Structures Questions"
   ]
  },
  {
   "cell_type": "code",
   "execution_count": 2,
   "id": "7087e8f8-fc76-4568-8238-e7e66e56acac",
   "metadata": {},
   "outputs": [],
   "source": [
    "#Q1. What are data structures, and why are they important?"
   ]
  },
  {
   "cell_type": "code",
   "execution_count": 3,
   "id": "3ba54d52-aa92-49e2-952c-650435a9fc71",
   "metadata": {},
   "outputs": [],
   "source": [
    "# Ans. Data structures are ways to organize and store data so it can be used efficiently. Examples include arrays, lists, stacks, queues, and trees.\n",
    "\n",
    "# They are important because they help:\n",
    "\n",
    "# Organize Data: Keep things neat and easy to access.\n",
    "# Save Time: Perform tasks like searching or sorting faster.\n",
    "# Solve Problems: Enable efficient solutions for complex tasks.\n",
    "# Choosing the right data structure makes programs faster and easier to manage."
   ]
  },
  {
   "cell_type": "code",
   "execution_count": 4,
   "id": "1442c12b-5991-406d-9af3-9db47afc2d75",
   "metadata": {},
   "outputs": [],
   "source": [
    "# Q2. Explain the difference between mutable and immutable data types with examples"
   ]
  },
  {
   "cell_type": "code",
   "execution_count": 1,
   "id": "c21fc3f5-b615-44ad-a867-e393a4c325e4",
   "metadata": {},
   "outputs": [],
   "source": [
    "# Ans. The difference between mutable and immutable data types is whether you can change the data after it is created:\n",
    "\n",
    "# Mutable: You can change or modify the data without creating a new object.\n",
    "\n",
    "# Example: Lists\n",
    "\n",
    "# my_list = [1, 2, 3]\n",
    "# my_list[0] = 10  # Changes the first element\n",
    "# print(my_list)  # Output: [10, 2, 3]\n",
    "# Immutable: You cannot change the data. If you try, a new object is created instead.\n",
    "\n",
    "# Example: Strings\n",
    "\n",
    "# my_string = \"hello\"\n",
    "# my_string = my_string + \" world\"  # Creates a new string\n",
    "# print(my_string)  # Output: \"hello world\"\n",
    "# In short:\n",
    "\n",
    "# Mutable = (e.g., lists, dictionaries).\n",
    "# Immutable = (e.g., strings, tuples)."
   ]
  },
  {
   "cell_type": "code",
   "execution_count": 2,
   "id": "17f957f4-3652-4475-988d-0412e03669a4",
   "metadata": {},
   "outputs": [],
   "source": [
    "#Q3. What are the main differences between lists and tuples in Python?"
   ]
  },
  {
   "cell_type": "code",
   "execution_count": 3,
   "id": "5d00170c-2162-4b62-a531-f4b413ac6653",
   "metadata": {},
   "outputs": [],
   "source": [
    "#Here are the main differences between lists and tuples in Python:\n",
    "\n",
    "# 1.Mutability:\n",
    "\n",
    "#Lists: Mutable (you can change them).\n",
    "#Tuples: Immutable (you cannot change them).\n",
    "\n",
    "# 2.Syntax:\n",
    "\n",
    "#Lists: Use square brackets [].\n",
    "#Example: my_list = [1, 2, 3]\n",
    "#Tuples: Use parentheses ().\n",
    "#Example: my_tuple = (1, 2, 3)\n",
    "\n",
    "# 3.Performance:\n",
    "\n",
    "#Tuples: Faster than lists because they are immutable.\n",
    "#Lists: Slower since they can be modified.\n",
    "\n",
    "# 4. Use Cases:\n",
    "\n",
    "#Lists: Used when data needs to change.\n",
    "#Tuples: Used when data should stay constant.\n",
    "\n",
    "#In short:\n",
    "\n",
    "#Lists = Changeable and slower.\n",
    "#Tuples = Unchangeable and faster."
   ]
  },
  {
   "cell_type": "code",
   "execution_count": 4,
   "id": "b0cbec8b-308c-4268-b02d-8baa69135f28",
   "metadata": {},
   "outputs": [],
   "source": [
    "#Q4. Describe how dictionaries store data."
   ]
  },
  {
   "cell_type": "code",
   "execution_count": 5,
   "id": "f94db962-4afb-42ed-8185-911a73658f28",
   "metadata": {},
   "outputs": [],
   "source": [
    "# Ans. Dictionaries in Python store data as key-value pairs. Each piece of data has a key (like a label) and a value (the data itself).\n",
    "\n",
    "# Example:\n",
    "\n",
    "# my_dict = {\"name\": \"Alice\", \"age\": 25}\n",
    "# Keys: \"name\", \"age\"\n",
    "# Values: \"Alice\", 25\n",
    "# Dictionaries are like a real-world dictionary, where you look up a word (key) to find its meaning (value).\n",
    "\n",
    "# Key Points:\n",
    "# Keys must be unique and immutable (e.g., strings, numbers).\n",
    "# Values can be any type (e.g., strings, numbers, lists).\n",
    "# Data is stored in a way that allows fast lookups, updates, and deletions.\n",
    "# This makes dictionaries great for organizing and accessing data quickly."
   ]
  },
  {
   "cell_type": "code",
   "execution_count": 7,
   "id": "f59f08cc-db98-490d-bd25-16577c20d428",
   "metadata": {},
   "outputs": [],
   "source": [
    "#Q5. Why might you use a set instead of a list in Python?"
   ]
  },
  {
   "cell_type": "code",
   "execution_count": 8,
   "id": "b4396f7c-4746-416b-8732-f5fb95fb78d2",
   "metadata": {},
   "outputs": [],
   "source": [
    "#Ans. You might choose to use a set instead of a list in Python for several reasons:\n",
    "\n",
    "#1. Uniqueness of Elements:\n",
    "#A set automatically ensures that all its elements are unique. If you add duplicate elements to a set,\n",
    "#they will be ignored. This makes sets useful for tasks like deduplication.\n",
    "\n",
    "#2. Faster Membership Testing:\n",
    "#Checking if an element is in a set (element in set) is faster than in a list because sets are implemented using hash tables.\n",
    "#This makes membership testing average O(1) for sets, compared to O(n) for lists.\n",
    "\n",
    "#3. Set Operations:\n",
    "#Sets support mathematical set operations such as union (|), intersection (&), difference (-), and symmetric difference (^).\n",
    "#These operations can be performed efficiently and are useful for tasks involving comparisons between collections.\n",
    "\n",
    "#4. No Concern for Order:\n",
    "#If the order of elements doesn't matter, a set can be a simpler and more efficient data structure than a list.\n",
    "\n",
    "#5. Efficient Removal of Duplicates:\n",
    "#Converting a list to a set (set(list)) is a quick way to remove duplicate values."
   ]
  },
  {
   "cell_type": "code",
   "execution_count": 9,
   "id": "4c644008-c31d-46fb-abdb-7becbdc8077d",
   "metadata": {},
   "outputs": [],
   "source": [
    "#Q6. What is a string in Python, and how is it different from a list?"
   ]
  },
  {
   "cell_type": "code",
   "execution_count": 10,
   "id": "354fb6c0-c16a-4308-b59c-ca7e99c2c077",
   "metadata": {},
   "outputs": [],
   "source": [
    "#Ans. A string in Python is a sequence of characters used to represent text. It is an immutable data type,\n",
    "# meaning that once a string is created,it cannot be changed.\n",
    "\n",
    "# Differences Between Strings and Lists\n",
    "\n",
    "# Aspect                                                 String\t                                 List\n",
    "#1 Data Type\t                                   Immutable (cannot be changed)\t          Mutable (can be modified)\n",
    "#2 Content\t                                       Sequence of characters\t                  Sequence of any data type (e.g., numbers, strings, other lists)\n",
    "#3 Mutability\t                                   Cannot modify elements directly\t          Can modify elements directly\n",
    "#4 Operations\t                                   Many string-specific methods               General list operations, like appending, removing, etc.\n",
    "#                                                (e.g., .upper(), .replace())\t\n",
    "\n",
    "#5 Usage\t                                       Primarily for text handling\t               Primarily for storing collections of data\n",
    "#6 Examples\t                                           \"hello\"\t                                 [1, 2, 'hello', 4.5]\n",
    "                    \n",
    "# Use Cases\n",
    "# Use strings when working with text (e.g., words, sentences, file names).\n",
    "# Use lists when working with collections of elements that need to be modified or contain different data types."
   ]
  },
  {
   "cell_type": "code",
   "execution_count": 11,
   "id": "06e2a5f3-cce5-45f5-8d1b-600760407528",
   "metadata": {},
   "outputs": [],
   "source": [
    "# Q7. How do tuples ensure data integrity in Python?"
   ]
  },
  {
   "cell_type": "code",
   "execution_count": 12,
   "id": "5ec95a6e-964d-480b-a922-c7c051c0b709",
   "metadata": {},
   "outputs": [],
   "source": [
    "# Ans. Tuples ensure data integrity in Python because they are immutable. Once a tuple is created, its elements cannot be changed, added, or removed.\n",
    "# This makes tuples useful for storing data that should stay constant throughout the program, like configuration settings or fixed pairs of values.\n",
    "\n",
    "# Key Points:\n",
    "# No Modification: You can't alter a tuple, so the data stays safe from accidental changes.\n",
    "# Hashable: Tuples can be used as keys in dictionaries or elements in sets if they contain only hashable items."
   ]
  },
  {
   "cell_type": "code",
   "execution_count": 13,
   "id": "85ff0ed9-8a22-4d08-bdec-1558c8abb7c9",
   "metadata": {},
   "outputs": [],
   "source": [
    "#Q8.What is a hash table, and how does it relate to dictionaries in Python?"
   ]
  },
  {
   "cell_type": "code",
   "execution_count": 1,
   "id": "a57c6485-ad4d-4fd7-aa9d-0ab58fce38d5",
   "metadata": {},
   "outputs": [],
   "source": [
    "# Ans. A hash table is a data structure that stores key-value pairs.\n",
    "# It uses a process called hashing to quickly find the location of a value in memory based on its key. This makes looking up,\n",
    "# inserting, and deleting data very fast, typically O(1) on average.\n",
    "# In Python, the dict (dictionary) is implemented using a hash table. When you use a dictionary,\n",
    "# the key is hashed (turned into a unique number) to determine where its value is stored.\n",
    "# This is why Python dictionaries are fast and allow quick access to values using keys."
   ]
  },
  {
   "cell_type": "code",
   "execution_count": 2,
   "id": "b47af485-6fb0-44ef-81a3-07c345ef39f5",
   "metadata": {},
   "outputs": [],
   "source": [
    "# Q9. Can lists contain different data types in Python?"
   ]
  },
  {
   "cell_type": "code",
   "execution_count": 3,
   "id": "fbeca0ba-2d53-439c-ad9f-b8405fb54de5",
   "metadata": {},
   "outputs": [],
   "source": [
    "# Ans. Yes, lists in Python can contain elements of different data types. This is because Python lists are heterogeneous,\n",
    "#     meaning they can store a mix of integers, strings, floats, objects, or even other lists.\n",
    "\n",
    "# For example:\n",
    "\n",
    "\n",
    "\n",
    "# my_list = [42, \"hello\", 3.14, [1, 2, 3], {\"key\": \"value\"}]\n",
    "# print(my_list)\n",
    "# Output:\n",
    "\n",
    "# [42, 'hello', 3.14, [1, 2, 3], {'key': 'value'}]\n",
    "# This flexibility is one of the features that makes Python lists powerful and easy to use.\n"
   ]
  },
  {
   "cell_type": "code",
   "execution_count": null,
   "id": "34f52358-f732-44d8-b8d4-beefcd72b21f",
   "metadata": {},
   "outputs": [],
   "source": [
    "# Q10.  Explain why strings are immutable in Python"
   ]
  },
  {
   "cell_type": "code",
   "execution_count": 4,
   "id": "73c27332-cba1-476f-9a5d-c5af9377ce54",
   "metadata": {},
   "outputs": [],
   "source": [
    "# Ans. Strings in Python are immutable, meaning they cannot be changed after they are created. This design has several advantages:\n",
    "\n",
    "# Efficiency: Since strings don’t change, Python can store and reuse them in memory, saving space and improving speed.\n",
    "# Safety: Immutable strings prevent accidental changes, which is useful when working with shared data.\n",
    "# Hashability: Because strings don’t change, they can be used as keys in dictionaries or elements in sets, which require fixed, hashable values.\n",
    "# If you modify a string, Python creates a new string instead of changing the original. This ensures strings are consistent and reliable. "
   ]
  },
  {
   "cell_type": "code",
   "execution_count": 5,
   "id": "d04f0d7c-ef6a-4ba7-acc9-afeecc239edd",
   "metadata": {},
   "outputs": [],
   "source": [
    "# Q11.  What advantages do dictionaries offer over lists for certain tasks?"
   ]
  },
  {
   "cell_type": "code",
   "execution_count": 6,
   "id": "4f376d77-4d18-4d84-9bc6-edd7f29b8142",
   "metadata": {},
   "outputs": [],
   "source": [
    "# Ans. Dictionaries offer several advantages over lists for specific tasks, especially when working with key-value data:\n",
    "#1.Fast Lookups: Dictionaries provide O(1) average-time complexity for retrieving values by their keys,\n",
    "#  making them much faster than searching through a list.\n",
    "\n",
    "#2.Meaningful Keys: Data can be accessed using meaningful keys instead of numeric indices, making code more readable and intuitive.\n",
    "\n",
    "# Example:\n",
    "\n",
    "# person = {\"name\": \"Alice\", \"age\": 25}\n",
    "# print(person[\"name\"])  # Easier than using list indices\n",
    "\n",
    "#3.Unordered Data: You can store and retrieve data without worrying about order, unlike lists where positions matter.\n",
    "\n",
    "#4.Flexible Updates: Adding, updating, or deleting key-value pairs is simple and does not disrupt the structure.\n",
    "\n",
    "#5.Eliminates Duplicates: Keys in dictionaries are unique, preventing accidental duplication."
   ]
  },
  {
   "cell_type": "code",
   "execution_count": 7,
   "id": "913bfe12-b13a-4f86-b8bf-cc2b3f43c7ff",
   "metadata": {},
   "outputs": [],
   "source": [
    "# Q12.  Describe a scenario where using a tuple would be preferable over a list."
   ]
  },
  {
   "cell_type": "code",
   "execution_count": 8,
   "id": "a9dfd172-8e67-4f5b-81d3-90da135254bb",
   "metadata": {},
   "outputs": [],
   "source": [
    "# Ans. A tuple is preferable over a list when the data is fixed and should not be changed. This ensures the integrity of the data.\n",
    "\n",
    "# Example: Days of the Week\n",
    "\n",
    "# If you need to store the days of the week (Monday, Tuesday, ...), a tuple is better because:\n",
    "\n",
    "# These values are constant and will not change.\n",
    "# Using a tuple prevents accidental modifications.\n",
    "\n",
    "# Code:\n",
    "\n",
    "# days_of_week = (\"Monday\", \"Tuesday\", \"Wednesday\", \"Thursday\", \"Friday\", \"Saturday\", \"Sunday\")\n",
    "\n",
    "# This makes the data more secure and ensures it remains the same throughout the program. Tuples are also slightly faster and use less memory than lists."
   ]
  },
  {
   "cell_type": "code",
   "execution_count": 10,
   "id": "f322449e-1706-4d01-992a-073387bea74c",
   "metadata": {},
   "outputs": [],
   "source": [
    "# Q13. How do sets handle duplicate values in Python?"
   ]
  },
  {
   "cell_type": "code",
   "execution_count": 11,
   "id": "5c99eb65-3421-46a9-bbd8-8f779f92e282",
   "metadata": {},
   "outputs": [],
   "source": [
    "# Ans. In Python, sets automatically handle duplicate values by ensuring that each element in a set is unique.\n",
    "# If you add duplicate values to a set,Python keeps only one copy of each unique value."
   ]
  },
  {
   "cell_type": "code",
   "execution_count": 12,
   "id": "64cc1902-0e8f-4a04-a6ef-5577a7a94728",
   "metadata": {},
   "outputs": [],
   "source": [
    "# Q14.  How does the “in” keyword work differently for lists and dictionaries?"
   ]
  },
  {
   "cell_type": "code",
   "execution_count": 14,
   "id": "10874f3e-6dd5-4047-bb7c-39765b468e05",
   "metadata": {},
   "outputs": [],
   "source": [
    "# Ans. The in keyword is used to check membership, but it works differently for lists and dictionaries in Python:\n",
    "\n",
    "# For Lists:\n",
    "# The in keyword checks if a value exists within the list by iterating through each element.\n",
    "# This is a linear search, so the time complexity is O(n).\n",
    "\n",
    "# Example:\n",
    "# my_list = [1, 2, 3, 4]\n",
    "# print(3 in my_list)  # True (checks if 3 is in the list)\n",
    "# print(5 in my_list)  # False\n",
    "\n",
    "# For Dictionaries:\n",
    "# The in keyword checks if a key exists in the dictionary (not the values).\n",
    "# This is a hash lookup, so the time complexity is O(1) on average.\n",
    "\n",
    "# Example:\n",
    "# my_dict = {\"name\": \"Alice\", \"age\": 25}\n",
    "# print(\"name\" in my_dict)  # True (checks for the key)\n",
    "# print(25 in my_dict)     # False (does not check values)\n",
    "# To check values in a dictionary, you can use:\n",
    "\n",
    "# python\n",
    "# Copy code\n",
    "# print(25 in my_dict.values())  # True"
   ]
  },
  {
   "cell_type": "code",
   "execution_count": null,
   "id": "8855cb6e-62db-4047-92b3-5d55143b43a2",
   "metadata": {},
   "outputs": [],
   "source": [
    "# Q15. Can you modify the elements of a tuple? Explain why or why not"
   ]
  },
  {
   "cell_type": "code",
   "execution_count": 16,
   "id": "dd64efe7-8165-4634-ab1c-8afdd83b8418",
   "metadata": {},
   "outputs": [],
   "source": [
    "# No, you cannot modify the elements of a tuple in Python because tuples are immutable.\n",
    "# This means that once a tuple is created, its content cannot be changed — you cannot add, remove, or modify elements in a tuple.\n",
    "\n",
    "# Why are Tuples Immutable?\n",
    "# Efficiency: Tuples are optimized for faster access and memory usage because they are immutable.\n",
    "# Safety: The immutability guarantees that the data cannot be altered, which is useful in scenarios where data integrity is important,\n",
    "# such as in function arguments or as dictionary keys.\n",
    "# Hashable: Because tuples are immutable, they can be used as keys in dictionaries or elements in sets, which require their values to remain constant.\n",
    "# Example:\n",
    "\n",
    "# my_tuple = (1, 2, 3)\n",
    "#  Trying to modify an element will raise an error:\n",
    "# my_tuple[1] = 4  # This will raise a TypeError\n",
    "#  To change the data, you would need to create a new tuple."
   ]
  },
  {
   "cell_type": "code",
   "execution_count": null,
   "id": "89cdde4b-4ba4-44e0-b9a9-3210d3a25fb8",
   "metadata": {},
   "outputs": [],
   "source": [
    "# Q16.  What is a nested dictionary, and give an example of its use case?"
   ]
  },
  {
   "cell_type": "code",
   "execution_count": 17,
   "id": "597cccff-7c77-40ce-8c9b-3aeb29b3a560",
   "metadata": {},
   "outputs": [],
   "source": [
    "# A nested dictionary is a dictionary where one or more of its values are themselves dictionaries.\n",
    "# This allows you to store complex data structures and represent hierarchical or multi-level data.\n",
    "\n",
    "# Use Case:\n",
    "# A common use case is managing information about a group of people, where each person has multiple attributes (like name, age, and address).\n",
    "# The address itself can be represented as another dictionary.\n",
    "\n",
    "# Use Nested Dictionaries\n",
    "# They help store related data in a structured way, representing real-world relationships.\n",
    "# For example, you can store data about products, users, or even more complex structures like company departments with multiple attributes."
   ]
  },
  {
   "cell_type": "code",
   "execution_count": 18,
   "id": "9814b85e-2169-44d5-99ef-5b5486ac15a2",
   "metadata": {},
   "outputs": [],
   "source": [
    "# Q17.  Describe the time complexity of accessing elements in a dictionary."
   ]
  },
  {
   "cell_type": "code",
   "execution_count": 19,
   "id": "46cc4668-15d3-4abc-97c0-4ef39cdb4017",
   "metadata": {},
   "outputs": [],
   "source": [
    "#Accessing elements in a dictionary in Python typically has an average time complexity of O(1),\n",
    "#which means it takes constant time to retrieve the value associated with a key, regardless of the dictionary's size.\n",
    "\n",
    "#How it works:\n",
    "#Python dictionaries are implemented using hash tables, where keys are hashed to quickly determine the memory location of the associated value.\n",
    "#When you access a value using a key (e.g., my_dict[key]), Python computes the hash of the key and directly jumps to the location in memory,\n",
    "#making the lookup very fast.\n",
    "\n",
    "#Best Case:\n",
    "#O(1): This is the typical case, where the hash of the key directly leads to the correct location without collisions.\n",
    "\n",
    "#Worst Case:\n",
    "#O(n): This can occur in rare situations when there are many hash collisions,\n",
    "#    and the dictionary has to look through a list of keys that share the same hash.\n",
    "#    However, Python uses techniques to minimize such collisions,so the worst-case scenario is uncommon."
   ]
  },
  {
   "cell_type": "code",
   "execution_count": 20,
   "id": "2cd1a7e3-9da0-4ba8-8f93-9db1496b2f2e",
   "metadata": {},
   "outputs": [],
   "source": [
    "#18. In what situations are lists preferred over dictionaries"
   ]
  },
  {
   "cell_type": "code",
   "execution_count": 21,
   "id": "c7f17c67-50eb-410e-91b2-8323482f2d3f",
   "metadata": {},
   "outputs": [],
   "source": [
    "# Lists are preferred over dictionaries in situations where:\n",
    "\n",
    "# 1. Order Matters:\n",
    "# Lists maintain the order of elements. If you need to store items in a specific sequence and need to preserve that order, a list is the better choice.\n",
    "# Example: Storing a sequence of user inputs or steps in a process.\n",
    "\n",
    "# steps = [\"Step 1\", \"Step 2\", \"Step 3\"]\n",
    "\n",
    "# 2. Indexed Access by Position:\n",
    "# If you need to access elements by their position or index (0-based), lists are ideal. In contrast, dictionaries are accessed using keys, not positions.\n",
    "# Example: Working with a list of students where you want to refer to each by their index.\n",
    "\n",
    "# students = [\"Alice\", \"Bob\", \"Charlie\"]\n",
    "# print(students[1])  # Outputs \"Bob\"\n",
    "\n",
    "# 3. Homogeneous Data:\n",
    "# If the data you need to store is of the same type (e.g., all integers, strings, etc.), a list is often more appropriate.\n",
    "# While dictionaries can handle heterogeneous data, lists are better for simple, uniform collections.\n",
    "# Example: Storing a list of ages or scores.\n",
    "# python\n",
    "# Copy code\n",
    "# scores = [85, 90, 78, 92]\n",
    "\n",
    "# 4. When You Need to Use List Operations:\n",
    "# Lists provide many built-in methods like append(), extend(), remove(), and sort(),\n",
    "# which are useful for manipulating and modifying collections of items.\n",
    "# Example: Adding or removing items dynamically.\n",
    "\n",
    "# fruits = [\"apple\", \"banana\", \"cherry\"]\n",
    "# fruits.append(\"date\")\n",
    "\n",
    "# 5. When You Don't Need Key-Value Pairing:\n",
    "# If you don’t need to store key-value pairs, using a list is more straightforward than using a dictionary.\n",
    "# Example: Storing a list of names or items without needing to pair them with a specific identifier.\n",
    "# In summary, lists are ideal when you need to maintain a sequence, perform index-based operations, or handle homogeneous data,\n",
    "# while dictionaries are better for key-value associations."
   ]
  },
  {
   "cell_type": "code",
   "execution_count": 22,
   "id": "073d63a6-bf88-401e-8d08-6a8c6be65a6c",
   "metadata": {},
   "outputs": [],
   "source": [
    "# Q19. Why are dictionaries considered unordered, and how does that affect data retrieval?"
   ]
  },
  {
   "cell_type": "code",
   "execution_count": null,
   "id": "42a36a16-7e77-47b7-9120-8256f39fbbf4",
   "metadata": {},
   "outputs": [],
   "source": [
    "# Ans. Dictionaries in Python are considered unordered because, traditionally,\n",
    "# the items (key-value pairs) in a dictionary are not stored in any specific sequence. In Python versions before 3.7,\n",
    "# dictionaries didn’t maintain any order, and the items could appear in any order when iterating through them. Even though starting from Python 3.7,\n",
    "# dictionaries preserve the insertion order (the order in which items are added),\n",
    "# this is still considered an implementation detail rather than a guaranteed behavior for all situations.\n",
    "\n",
    "# Impact on Data Retrieval:\n",
    "# Key-based Lookup:\n",
    "\n",
    "# In dictionaries, you retrieve data using keys, not by their position or order.\n",
    "# The dictionary’s internal structure (hashing) allows for quick access to values associated with keys, typically in constant time (O(1)).\n",
    "# Example:\n",
    "\n",
    "\n",
    "# my_dict = {\"name\": \"Alice\", \"age\": 30, \"city\": \"Wonderland\"}\n",
    "# print(my_dict[\"age\"])  # Retrieves 30, regardless of the insertion order\n",
    "# No Reliance on Order:\n",
    "\n",
    "# Because dictionaries are unordered (even if the insertion order is preserved in Python 3.7+),\n",
    "# you should not expect the items to appear in any specific order when iterating. If order matters for your task,\n",
    "# you might use a list or OrderedDict (from the collections module in earlier Python versions).\n",
    "# Key Takeaways:\n",
    "# Dictionaries are unordered by nature, meaning the order of items doesn’t matter for retrieval.\n",
    "# Data retrieval is still efficient and quick (O(1)) because it is based on key lookups, not their positions in the dictionary.\n",
    "# Insertion order is preserved in Python 3.7+, but this should not be relied upon for tasks where order is crucial."
   ]
  },
  {
   "cell_type": "code",
   "execution_count": null,
   "id": "c833e881-29bc-4747-a71a-213496fb6122",
   "metadata": {},
   "outputs": [],
   "source": [
    "# Q20.  Explain the difference between a list and a dictionary in terms of data retrieval."
   ]
  },
  {
   "cell_type": "code",
   "execution_count": null,
   "id": "e6a0883c-f94f-4343-9be4-46909b5b3a11",
   "metadata": {},
   "outputs": [],
   "source": [
    "# Ans. \n",
    "# Access Method:\n",
    "# List: Accessed by index (position in the list).\n",
    "# Dictionary: Accessed by key (unique identifier for each value).\n",
    "\n",
    "# Order:\n",
    "# List: Elements are ordered, and their index determines their position.\n",
    "# Dictionary: Before Python 3.7, unordered. From Python 3.7+, insertion order is maintained,\n",
    "# but order is not guaranteed as a defining feature for retrieval.\n",
    "\n",
    "# Efficiency:\n",
    "# List: Searching for a value by its index is fast (O(1)), but searching by value is slow (O(n)).\n",
    "# Dictionary: Access by key is fast (O(1)), providing more efficient retrieval for large datasets.\n"
   ]
  },
  {
   "cell_type": "code",
   "execution_count": null,
   "id": "87520c9b-ac1c-4c98-9cbe-a8c0d1f855c6",
   "metadata": {},
   "outputs": [],
   "source": []
  },
  {
   "cell_type": "code",
   "execution_count": null,
   "id": "f297b51b-c7ea-4e9d-8711-e083f213fbad",
   "metadata": {},
   "outputs": [],
   "source": []
  },
  {
   "cell_type": "code",
   "execution_count": 24,
   "id": "6d079267-a649-4e9d-a2a3-40ec852578f8",
   "metadata": {},
   "outputs": [],
   "source": [
    "# Practical Questions\n"
   ]
  },
  {
   "cell_type": "code",
   "execution_count": 25,
   "id": "45d2669d-5b91-4d75-8651-c67f0e6f1add",
   "metadata": {},
   "outputs": [],
   "source": [
    "# Q1.  Write a code to create a string with your name and print it"
   ]
  },
  {
   "cell_type": "code",
   "execution_count": 26,
   "id": "8509c291-38f9-4bfa-8499-196948e8f296",
   "metadata": {},
   "outputs": [
    {
     "name": "stdout",
     "output_type": "stream",
     "text": [
      "Ajay Verma\n"
     ]
    }
   ],
   "source": [
    "#Ans\n",
    "name = \"Ajay Verma\"\n",
    "print(name)"
   ]
  },
  {
   "cell_type": "code",
   "execution_count": 27,
   "id": "1cf383b2-8f06-4a34-963e-45fcede793c4",
   "metadata": {},
   "outputs": [],
   "source": [
    "#Q2. Write a code to find the length of the string \"Hello World\""
   ]
  },
  {
   "cell_type": "code",
   "execution_count": 32,
   "id": "7e7bd18c-1725-427f-8571-96a1f24ac8f3",
   "metadata": {},
   "outputs": [
    {
     "data": {
      "text/plain": [
       "11"
      ]
     },
     "execution_count": 32,
     "metadata": {},
     "output_type": "execute_result"
    }
   ],
   "source": [
    "a =\"Hello World\"\n",
    "len(a)"
   ]
  },
  {
   "cell_type": "code",
   "execution_count": 33,
   "id": "e799975c-b9ac-4b0e-b3b7-46deb6d18664",
   "metadata": {},
   "outputs": [],
   "source": [
    "#The len() function returns the number of characters in the string, including spaces."
   ]
  },
  {
   "cell_type": "code",
   "execution_count": 34,
   "id": "ade7a092-b957-48ef-96ef-2d0dda03133d",
   "metadata": {},
   "outputs": [],
   "source": [
    "# Q3. Write a code to slice the first 3 characters from the string \"Python Programming\""
   ]
  },
  {
   "cell_type": "code",
   "execution_count": 35,
   "id": "34feeffc-2e89-4c4d-b418-c6b41b87ff7f",
   "metadata": {},
   "outputs": [
    {
     "name": "stdout",
     "output_type": "stream",
     "text": [
      "Pyt\n"
     ]
    }
   ],
   "source": [
    "Ans.\n",
    "# Define the string\n",
    "my_string = \"Python Programming\"\n",
    "\n",
    "# Slice the first 3 characters\n",
    "sliced_string = my_string[:3]\n",
    "\n",
    "# Print the sliced string\n",
    "print(sliced_string)\n"
   ]
  },
  {
   "cell_type": "code",
   "execution_count": 36,
   "id": "2eeccddb-4a13-42c1-9f7c-178661a0e08a",
   "metadata": {},
   "outputs": [],
   "source": [
    "#Q4.  Write a code to convert the string \"hello\" to uppercase"
   ]
  },
  {
   "cell_type": "code",
   "execution_count": 38,
   "id": "94e4b02a-96ca-45de-aea5-2527cb900326",
   "metadata": {},
   "outputs": [
    {
     "name": "stdout",
     "output_type": "stream",
     "text": [
      "HELLO\n"
     ]
    }
   ],
   "source": [
    "# Ans. Define the string\n",
    "my_string = \"hello\"\n",
    "\n",
    "# Convert the string to uppercase\n",
    "uppercase_string = my_string.upper()\n",
    "\n",
    "# Print the uppercase string\n",
    "print(uppercase_string)\n"
   ]
  },
  {
   "cell_type": "code",
   "execution_count": 39,
   "id": "2b38c350-fab5-4d2a-a52a-d596469b7a19",
   "metadata": {},
   "outputs": [],
   "source": [
    "#Q5.  Write a code to replace the word \"apple\" with \"orange\" in the string \"I like apple\""
   ]
  },
  {
   "cell_type": "code",
   "execution_count": 40,
   "id": "2281f461-df9a-476f-b10f-e9ae54afb99a",
   "metadata": {},
   "outputs": [
    {
     "name": "stdout",
     "output_type": "stream",
     "text": [
      "I like orange\n"
     ]
    }
   ],
   "source": [
    "#Ans # Define the string\n",
    "my_string = \"I like apple\"\n",
    "\n",
    "# Replace \"apple\" with \"orange\"\n",
    "new_string = my_string.replace(\"apple\", \"orange\")\n",
    "\n",
    "# Print the new string\n",
    "print(new_string)\n"
   ]
  },
  {
   "cell_type": "code",
   "execution_count": 41,
   "id": "22cfc5f7-f758-4828-ae7e-00259bdc0aeb",
   "metadata": {},
   "outputs": [],
   "source": [
    "#Q6. Write a code to create a list with numbers 1 to 5 and print it"
   ]
  },
  {
   "cell_type": "code",
   "execution_count": 42,
   "id": "8030dfa7-db2f-4837-a89d-ad364b63c0ad",
   "metadata": {},
   "outputs": [
    {
     "name": "stdout",
     "output_type": "stream",
     "text": [
      "[1, 2, 3, 4, 5]\n"
     ]
    }
   ],
   "source": [
    "#Ans. You can create a list with numbers from 1 to 5 and print it in Python like this:\n",
    "# Create the list with numbers 1 to 5\n",
    "my_list = [1, 2, 3, 4, 5]\n",
    "\n",
    "# Print the list\n",
    "print(my_list)\n"
   ]
  },
  {
   "cell_type": "code",
   "execution_count": 43,
   "id": "0264c19e-8f13-4e54-9930-c43402031b85",
   "metadata": {},
   "outputs": [],
   "source": [
    "#Q7.  Write a code to append the number 10 to the list [1, 2, 3, 4]"
   ]
  },
  {
   "cell_type": "code",
   "execution_count": 44,
   "id": "b150e7a7-6c44-4bc5-ae48-4eec34cdf7ab",
   "metadata": {},
   "outputs": [
    {
     "name": "stdout",
     "output_type": "stream",
     "text": [
      "[1, 2, 3, 4, 10]\n"
     ]
    }
   ],
   "source": [
    "#Ans.# Define the list\n",
    "my_list = [1, 2, 3, 4]\n",
    "\n",
    "# Append the number 10 to the list\n",
    "my_list.append(10)\n",
    "\n",
    "# Print the updated list\n",
    "print(my_list)\n"
   ]
  },
  {
   "cell_type": "code",
   "execution_count": 45,
   "id": "088c268e-9f08-4aa1-abfa-3607d4790411",
   "metadata": {},
   "outputs": [],
   "source": [
    "# Q8.  Write a code to remove the number 3 from the list [1, 2, 3, 4, 5]"
   ]
  },
  {
   "cell_type": "code",
   "execution_count": 47,
   "id": "1e15e53f-5def-4e15-9919-9663d438ce72",
   "metadata": {},
   "outputs": [
    {
     "name": "stdout",
     "output_type": "stream",
     "text": [
      "[1, 2, 4, 5]\n"
     ]
    }
   ],
   "source": [
    "#Ans.\n",
    "# Define the list\n",
    "my_list = [1, 2, 3, 4, 5]\n",
    "\n",
    "# Remove the number 3 from the list\n",
    "my_list.remove(3)\n",
    "\n",
    "# Print the updated list\n",
    "print(my_list)\n"
   ]
  },
  {
   "cell_type": "code",
   "execution_count": 49,
   "id": "bba0e808-b235-4d73-8615-aaeaf1897b57",
   "metadata": {},
   "outputs": [],
   "source": [
    "#Q9. Write a code to access the second element in the list ['a', 'b', 'c', 'd']"
   ]
  },
  {
   "cell_type": "code",
   "execution_count": 50,
   "id": "eb2e8575-71b8-4759-8b5b-f9fb061f396c",
   "metadata": {},
   "outputs": [
    {
     "name": "stdout",
     "output_type": "stream",
     "text": [
      "b\n"
     ]
    }
   ],
   "source": [
    "#Ans. \n",
    "# Define the list\n",
    "my_list = ['a', 'b', 'c', 'd']\n",
    "\n",
    "# Access the second element\n",
    "second_element = my_list[1]\n",
    "\n",
    "# Print the second element\n",
    "print(second_element)\n"
   ]
  },
  {
   "cell_type": "code",
   "execution_count": 52,
   "id": "1ff98d32-c538-45af-85a6-85da22f7b9b8",
   "metadata": {},
   "outputs": [],
   "source": [
    "#Q10. Write a code to reverse the list [10, 20, 30, 40, 50]."
   ]
  },
  {
   "cell_type": "code",
   "execution_count": 53,
   "id": "e3c851ca-111a-46ee-96ff-eab9e2621c70",
   "metadata": {},
   "outputs": [
    {
     "name": "stdout",
     "output_type": "stream",
     "text": [
      "[50, 40, 30, 20, 10]\n"
     ]
    }
   ],
   "source": [
    "#Ans.\n",
    "# Define the list\n",
    "my_list = [10, 20, 30, 40, 50]\n",
    "\n",
    "# Reverse the list in place\n",
    "my_list.reverse()\n",
    "\n",
    "# Print the reversed list\n",
    "print(my_list)\n"
   ]
  },
  {
   "cell_type": "code",
   "execution_count": 54,
   "id": "39633583-b79e-414d-89cc-4e19f5a942b8",
   "metadata": {},
   "outputs": [],
   "source": [
    "#Q11. Write a code to create a tuple with the elements 10, 20, 30 and print it."
   ]
  },
  {
   "cell_type": "code",
   "execution_count": 55,
   "id": "6018381a-71b8-42a5-b53e-6ce1719eb282",
   "metadata": {},
   "outputs": [
    {
     "name": "stdout",
     "output_type": "stream",
     "text": [
      "(10, 20, 30)\n"
     ]
    }
   ],
   "source": [
    "#Ans.\n",
    "# Create the tuple\n",
    "my_tuple = (10, 20, 30)\n",
    "\n",
    "# Print the tuple\n",
    "print(my_tuple)\n"
   ]
  },
  {
   "cell_type": "code",
   "execution_count": 56,
   "id": "8a9476ca-2fea-4549-90db-b4d0e5d1f3de",
   "metadata": {},
   "outputs": [],
   "source": [
    "#Q12. Write a code to access the first element of the tuple ('apple', 'banana', 'cherry')."
   ]
  },
  {
   "cell_type": "code",
   "execution_count": 59,
   "id": "208dcd7c-1c8b-4bb6-8051-6615882281c4",
   "metadata": {},
   "outputs": [
    {
     "name": "stdout",
     "output_type": "stream",
     "text": [
      "apple\n"
     ]
    }
   ],
   "source": [
    "#Ans. # Define the tuple\n",
    "my_tuple = ('apple', 'banana', 'cherry')\n",
    "\n",
    "# Access the first element\n",
    "first_element = my_tuple[0]\n",
    "\n",
    "# Print the first element\n",
    "print(first_element)\n"
   ]
  },
  {
   "cell_type": "code",
   "execution_count": 60,
   "id": "7538610a-b774-4e21-9be8-d3ba4df6fc73",
   "metadata": {},
   "outputs": [],
   "source": [
    "#Q13. Write a code to count how many times the number 2 appears in the tuple (1, 2, 3, 2, 4, 2)."
   ]
  },
  {
   "cell_type": "code",
   "execution_count": 62,
   "id": "b273b34d-32f2-43e4-bce7-8a89d148c579",
   "metadata": {},
   "outputs": [
    {
     "name": "stdout",
     "output_type": "stream",
     "text": [
      "3\n"
     ]
    }
   ],
   "source": [
    "#Ans.# Define the tuple\n",
    "my_tuple = (1, 2, 3, 2, 4, 2)\n",
    "\n",
    "# Count how many times the number 2 appears in the tuple\n",
    "count_of_2 = my_tuple.count(2)\n",
    "\n",
    "# Print the count\n",
    "print(count_of_2)\n"
   ]
  },
  {
   "cell_type": "code",
   "execution_count": 63,
   "id": "68b2383d-495a-4838-b770-7db5fadf2d1a",
   "metadata": {},
   "outputs": [],
   "source": [
    "#Q14. Write a code to find the index of the element \"cat\" in the tuple ('dog', 'cat', 'rabbit')."
   ]
  },
  {
   "cell_type": "code",
   "execution_count": 64,
   "id": "221f58a8-2d48-4974-868f-d8fd661b73a1",
   "metadata": {},
   "outputs": [
    {
     "name": "stdout",
     "output_type": "stream",
     "text": [
      "1\n"
     ]
    }
   ],
   "source": [
    "#Ans.# Define the tuple\n",
    "my_tuple = ('dog', 'cat', 'rabbit')\n",
    "\n",
    "# Find the index of the element \"cat\"\n",
    "index_of_cat = my_tuple.index('cat')\n",
    "\n",
    "# Print the index\n",
    "print(index_of_cat)\n"
   ]
  },
  {
   "cell_type": "code",
   "execution_count": 65,
   "id": "829798c8-a839-4dbc-9be9-8d9d55fa29f6",
   "metadata": {},
   "outputs": [],
   "source": [
    "#Q15.Write a code to check if the element \"banana\" is in the tuple ('apple', 'orange', 'banana').\n",
    " "
   ]
  },
  {
   "cell_type": "code",
   "execution_count": 66,
   "id": "c3142242-0ed0-4a1d-90ed-4c0faea00914",
   "metadata": {},
   "outputs": [
    {
     "name": "stdout",
     "output_type": "stream",
     "text": [
      "Yes, 'banana' is in the tuple.\n"
     ]
    }
   ],
   "source": [
    "#Ans.\n",
    "# Define the tuple\n",
    "my_tuple = ('apple', 'orange', 'banana')\n",
    "\n",
    "# Check if \"banana\" is in the tuple\n",
    "if 'banana' in my_tuple:\n",
    "    print(\"Yes, 'banana' is in the tuple.\")\n",
    "else:\n",
    "    print(\"No, 'banana' is not in the tuple.\")\n"
   ]
  },
  {
   "cell_type": "code",
   "execution_count": 67,
   "id": "0c872bc2-02d1-40cb-b904-3436d20682e3",
   "metadata": {},
   "outputs": [],
   "source": [
    "#Q16. Write a code to create a set with the elements 1, 2, 3, 4, 5 and print it."
   ]
  },
  {
   "cell_type": "code",
   "execution_count": 68,
   "id": "6c9e9b58-6924-404a-854e-95c64726c92f",
   "metadata": {},
   "outputs": [
    {
     "name": "stdout",
     "output_type": "stream",
     "text": [
      "{1, 2, 3, 4, 5}\n"
     ]
    }
   ],
   "source": [
    "#Ans. # Create the set\n",
    "my_set = {1, 2, 3, 4, 5}\n",
    "\n",
    "# Print the set\n",
    "print(my_set)\n"
   ]
  },
  {
   "cell_type": "code",
   "execution_count": 69,
   "id": "719f33d1-9b5b-4060-937d-b5fde275e47a",
   "metadata": {},
   "outputs": [],
   "source": [
    "#Q 17. Write a code to add the element 6 to the set {1, 2, 3, 4}."
   ]
  },
  {
   "cell_type": "code",
   "execution_count": 70,
   "id": "d9481b43-e4e9-44b7-b242-035896a682ec",
   "metadata": {},
   "outputs": [
    {
     "name": "stdout",
     "output_type": "stream",
     "text": [
      "{1, 2, 3, 4, 6}\n"
     ]
    }
   ],
   "source": [
    "#Ans. # Define the set\n",
    "my_set = {1, 2, 3, 4}\n",
    "\n",
    "# Add the element 6 to the set\n",
    "my_set.add(6)\n",
    "\n",
    "# Print the updated set\n",
    "print(my_set)\n"
   ]
  },
  {
   "cell_type": "code",
   "execution_count": 71,
   "id": "ef31a26f-dad0-47e2-8f56-4ef35a67b110",
   "metadata": {},
   "outputs": [],
   "source": [
    "#Q18. Write a code to create a tuple with the elements 10, 20, 30 and print it."
   ]
  },
  {
   "cell_type": "code",
   "execution_count": 72,
   "id": "87303527-7aa2-48cb-9e1c-28c050b8ef5f",
   "metadata": {},
   "outputs": [
    {
     "name": "stdout",
     "output_type": "stream",
     "text": [
      "(10, 20, 30)\n"
     ]
    }
   ],
   "source": [
    "#Ans.\n",
    "# Create the tuple\n",
    "my_tuple = (10, 20, 30)\n",
    "\n",
    "# Print the tuple\n",
    "print(my_tuple)\n"
   ]
  },
  {
   "cell_type": "code",
   "execution_count": 74,
   "id": "fdf3b78e-0f07-435e-8c75-a79070920aaa",
   "metadata": {},
   "outputs": [],
   "source": [
    "#Q19. Write a cde to access the first element of the tuple ('apple', 'banana', 'cherry')."
   ]
  },
  {
   "cell_type": "code",
   "execution_count": 75,
   "id": "bfb81a57-6592-4f2a-b9f3-f4c71b0ac7f3",
   "metadata": {},
   "outputs": [
    {
     "name": "stdout",
     "output_type": "stream",
     "text": [
      "Yes, 'banana' is in the tuple.\n"
     ]
    }
   ],
   "source": [
    "#Ans.\n",
    "# Define the tuple\n",
    "my_tuple = ('apple', 'orange', 'banana')\n",
    "\n",
    "# Check if \"banana\" is in the tuple\n",
    "if 'banana' in my_tuple:\n",
    "    print(\"Yes, 'banana' is in the tuple.\")\n",
    "else:\n",
    "    print(\"No, 'banana' is not in the tuple.\")\n"
   ]
  },
  {
   "cell_type": "code",
   "execution_count": 77,
   "id": "34e36e93-138d-491f-837b-ac36f98aa26f",
   "metadata": {},
   "outputs": [],
   "source": [
    "#Q20. Write a code to count how mny times the number 2 appears in the tuple (1, 2, 3, 2, 4, 2)."
   ]
  },
  {
   "cell_type": "code",
   "execution_count": 78,
   "id": "33a778a5-5b57-42d3-9649-17f724613922",
   "metadata": {},
   "outputs": [
    {
     "name": "stdout",
     "output_type": "stream",
     "text": [
      "3\n"
     ]
    }
   ],
   "source": [
    "#Ans. # Define the tuple\n",
    "my_tuple = (1, 2, 3, 2, 4, 2)\n",
    "\n",
    "# Count how many times the number 2 appears in the tuple\n",
    "count_of_2 = my_tuple.count(2)\n",
    "\n",
    "# Print the count\n",
    "print(count_of_2)\n",
    " 21. Write a code to find the index of the element \"cat\" in the tuple ('dog', 'cat', 'rabbit').\n"
   ]
  },
  {
   "cell_type": "code",
   "execution_count": 79,
   "id": "dcaa3940-eb89-4974-8d61-d0cb73c917d3",
   "metadata": {},
   "outputs": [],
   "source": [
    "#Q21. Write a code to find the index of the element \"cat\" in the tuple ('dog', 'cat', 'rabbit')."
   ]
  },
  {
   "cell_type": "code",
   "execution_count": 80,
   "id": "5f4ea74c-653e-4b58-bc69-85886e638537",
   "metadata": {},
   "outputs": [
    {
     "name": "stdout",
     "output_type": "stream",
     "text": [
      "1\n"
     ]
    }
   ],
   "source": [
    "#Ans.# Define the tuple\n",
    "my_tuple = ('dog', 'cat', 'rabbit')\n",
    "\n",
    "# Find the index of the element \"cat\"\n",
    "index_of_cat = my_tuple.index('cat')\n",
    "\n",
    "# Print the index\n",
    "print(index_of_cat)\n"
   ]
  },
  {
   "cell_type": "code",
   "execution_count": 81,
   "id": "99c74ee6-986c-4807-8507-9639b0a9256a",
   "metadata": {},
   "outputs": [],
   "source": [
    "#Q22. Write a code to check if the element \"banana\" is in the tuple ('apple', 'orange', 'banana')."
   ]
  },
  {
   "cell_type": "code",
   "execution_count": 82,
   "id": "58cd1727-525c-4854-b4c1-f6efa43f9c24",
   "metadata": {},
   "outputs": [
    {
     "name": "stdout",
     "output_type": "stream",
     "text": [
      "Yes, 'banana' is in the tuple.\n"
     ]
    }
   ],
   "source": [
    "#Ans.\n",
    "# Define the tuple\n",
    "my_tuple = ('apple', 'orange', 'banana')\n",
    "\n",
    "# Check if \"banana\" is in the tuple\n",
    "if 'banana' in my_tuple:\n",
    "    print(\"Yes, 'banana' is in the tuple.\")\n",
    "else:\n",
    "    print(\"No, 'banana' is not in the tuple.\")\n"
   ]
  },
  {
   "cell_type": "code",
   "execution_count": 83,
   "id": "2d521a46-f939-4078-aafd-949aa7c5eab8",
   "metadata": {},
   "outputs": [],
   "source": [
    "#Q23. Write a code to create a set with the elements 1, 2, 3, 4, 5 and print it."
   ]
  },
  {
   "cell_type": "code",
   "execution_count": 84,
   "id": "22840a5f-c9ad-4d97-8601-8ef34509c8a7",
   "metadata": {},
   "outputs": [
    {
     "name": "stdout",
     "output_type": "stream",
     "text": [
      "{1, 2, 3, 4, 5}\n"
     ]
    }
   ],
   "source": [
    "#Ans. # Create the set\n",
    "my_set = {1, 2, 3, 4, 5}\n",
    "\n",
    "# Print the set\n",
    "print(my_set)\n"
   ]
  },
  {
   "cell_type": "code",
   "execution_count": 86,
   "id": "3755dbfe-2f47-4082-b570-29602f61f267",
   "metadata": {},
   "outputs": [],
   "source": [
    "#Q24. Write a code to add the element 6 to the set {1, 2, 3, 4}."
   ]
  },
  {
   "cell_type": "code",
   "execution_count": null,
   "id": "c9c787de-b9ec-415e-9a0b-dfcee09d159e",
   "metadata": {},
   "outputs": [],
   "source": []
  }
 ],
 "metadata": {
  "kernelspec": {
   "display_name": "Python 3 (ipykernel)",
   "language": "python",
   "name": "python3"
  },
  "language_info": {
   "codemirror_mode": {
    "name": "ipython",
    "version": 3
   },
   "file_extension": ".py",
   "mimetype": "text/x-python",
   "name": "python",
   "nbconvert_exporter": "python",
   "pygments_lexer": "ipython3",
   "version": "3.13.1"
  }
 },
 "nbformat": 4,
 "nbformat_minor": 5
}
